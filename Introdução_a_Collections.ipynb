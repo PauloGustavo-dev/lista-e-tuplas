{
  "nbformat": 4,
  "nbformat_minor": 0,
  "metadata": {
    "colab": {
      "provenance": [],
      "authorship_tag": "ABX9TyMyYNjvRLN9Hei1veuOT9x7",
      "include_colab_link": true
    },
    "kernelspec": {
      "name": "python3",
      "display_name": "Python 3"
    },
    "language_info": {
      "name": "python"
    }
  },
  "cells": [
    {
      "cell_type": "markdown",
      "metadata": {
        "id": "view-in-github",
        "colab_type": "text"
      },
      "source": [
        "<a href=\"https://colab.research.google.com/github/PauloGustavo-dev/lista-e-tuplas/blob/main/Introdu%C3%A7%C3%A3o_a_Collections.ipynb\" target=\"_parent\"><img src=\"https://colab.research.google.com/assets/colab-badge.svg\" alt=\"Open In Colab\"/></a>"
      ]
    },
    {
      "cell_type": "code",
      "execution_count": null,
      "metadata": {
        "id": "qq4B5eqXoz-J",
        "colab": {
          "base_uri": "https://localhost:8080/"
        },
        "outputId": "08ec9a52-6b7a-44ed-d206-39f939cd1453"
      },
      "outputs": [
        {
          "output_type": "execute_result",
          "data": {
            "text/plain": [
              "[3, 12, 33, 56.45]"
            ]
          },
          "metadata": {},
          "execution_count": 1
        }
      ],
      "source": [
        "idades=[3,12,33,56.45]\n",
        "idades"
      ]
    },
    {
      "cell_type": "code",
      "source": [
        "idades.append(20)\n",
        "#adiciona elemento no final da lista\n",
        "idades"
      ],
      "metadata": {
        "colab": {
          "base_uri": "https://localhost:8080/"
        },
        "id": "Ub3fUsJpqaR8",
        "outputId": "597123c9-5481-4b67-c9ba-41596202c217"
      },
      "execution_count": null,
      "outputs": [
        {
          "output_type": "execute_result",
          "data": {
            "text/plain": [
              "[3, 12, 33, 56.45, 20]"
            ]
          },
          "metadata": {},
          "execution_count": 2
        }
      ]
    },
    {
      "cell_type": "code",
      "source": [
        "idades.insert(0 , 100)\n",
        "#insere o elemento na posição informada\n",
        "idades"
      ],
      "metadata": {
        "colab": {
          "base_uri": "https://localhost:8080/"
        },
        "id": "Luk43wSeqmti",
        "outputId": "bef96004-be55-4888-f153-b277669aaa02"
      },
      "execution_count": null,
      "outputs": [
        {
          "output_type": "execute_result",
          "data": {
            "text/plain": [
              "[100, 3, 12, 33, 56.45, 20]"
            ]
          },
          "metadata": {},
          "execution_count": 3
        }
      ]
    },
    {
      "cell_type": "code",
      "source": [
        "idades.extend([66,77])\n",
        "#extende a lita com outra lista\n",
        "idades"
      ],
      "metadata": {
        "colab": {
          "base_uri": "https://localhost:8080/"
        },
        "id": "1O6j6CQUq59M",
        "outputId": "525505c9-afd6-42cc-e367-c11d5af91982"
      },
      "execution_count": null,
      "outputs": [
        {
          "output_type": "execute_result",
          "data": {
            "text/plain": [
              "[100, 3, 12, 33, 56.45, 20, 66, 77]"
            ]
          },
          "metadata": {},
          "execution_count": 4
        }
      ]
    },
    {
      "cell_type": "code",
      "source": [
        "idades_no_ano_que_vem = []\n",
        "for idades in idades:\n",
        "  idades_no_ano_que_vem.append(idades+1)\n",
        "idades_no_ano_que_vem"
      ],
      "metadata": {
        "id": "6HBAvmELrS4g",
        "colab": {
          "base_uri": "https://localhost:8080/"
        },
        "outputId": "116f9379-8bdb-4db1-b8c7-36d12ccbb928"
      },
      "execution_count": null,
      "outputs": [
        {
          "output_type": "execute_result",
          "data": {
            "text/plain": [
              "[101, 4, 13, 34, 57.45, 21, 67, 78]"
            ]
          },
          "metadata": {},
          "execution_count": 5
        }
      ]
    },
    {
      "cell_type": "markdown",
      "source": [
        "# Objetos próprios"
      ],
      "metadata": {
        "id": "CSP0BAlRwSIH"
      }
    },
    {
      "cell_type": "code",
      "source": [
        "class ContaCorrente:\n",
        "  def __init__(self,codigo):\n",
        "    self.codigo = codigo\n",
        "    self.saldo = 0\n",
        "  \n",
        "  def deposita(self,valor):\n",
        "    self.saldo+=valor\n",
        "  \n",
        "  def __str__(self) -> str:\n",
        "    return \"[>>Codigo {} Saldo {}<<]\".format(self.codigo,self.saldo)"
      ],
      "metadata": {
        "id": "GcCdujWtwYvt"
      },
      "execution_count": null,
      "outputs": []
    },
    {
      "cell_type": "code",
      "source": [
        "conta_do_gui = ContaCorrente(15)\n",
        "print(conta_do_gui)"
      ],
      "metadata": {
        "colab": {
          "base_uri": "https://localhost:8080/"
        },
        "id": "NgXjFTf9x1nl",
        "outputId": "fa3378c6-ff12-4dd0-a314-e066b0484dfc"
      },
      "execution_count": null,
      "outputs": [
        {
          "output_type": "stream",
          "name": "stdout",
          "text": [
            "[>>Codigo 15 Saldo 0<<]\n"
          ]
        }
      ]
    },
    {
      "cell_type": "code",
      "source": [
        "conta_do_gui.deposita(500)\n",
        "print(conta_do_gui)"
      ],
      "metadata": {
        "colab": {
          "base_uri": "https://localhost:8080/"
        },
        "id": "-0qQC7IVyNCp",
        "outputId": "960bea99-65c0-49df-fed0-177bc19922d6"
      },
      "execution_count": null,
      "outputs": [
        {
          "output_type": "stream",
          "name": "stdout",
          "text": [
            "[>>Codigo 15 Saldo 500<<]\n"
          ]
        }
      ]
    },
    {
      "cell_type": "code",
      "source": [
        "conta_da_dani = ContaCorrente(50000)\n",
        "conta_da_dani.deposita(1000)\n",
        "print(conta_da_dani)"
      ],
      "metadata": {
        "colab": {
          "base_uri": "https://localhost:8080/"
        },
        "id": "AsOIwbvhyW2g",
        "outputId": "b12781ad-e49d-4672-a93d-fa09eaf2d785"
      },
      "execution_count": null,
      "outputs": [
        {
          "output_type": "stream",
          "name": "stdout",
          "text": [
            "[>>Codigo 50000 Saldo 1000<<]\n"
          ]
        }
      ]
    },
    {
      "cell_type": "code",
      "source": [
        "contas=[conta_do_gui,conta_da_dani]\n",
        "for conta in contas:\n",
        "  print(conta)"
      ],
      "metadata": {
        "id": "X6Xfjyw0zQbe"
      },
      "execution_count": null,
      "outputs": []
    },
    {
      "cell_type": "code",
      "source": [
        "def deposita_para_todas(contas):\n",
        "   for conta in contas:\n",
        "     conta.deposita(100)\n",
        "contas = [conta_do_gui,conta_da_dani]\n",
        "deposita_para_todas(contas)\n",
        "print(contas[0],contas[1])"
      ],
      "metadata": {
        "colab": {
          "base_uri": "https://localhost:8080/"
        },
        "id": "id1Qjf7UzdR2",
        "outputId": "f6bf4c88-c88c-45b8-ce18-dbb07719af67"
      },
      "execution_count": null,
      "outputs": [
        {
          "output_type": "stream",
          "name": "stdout",
          "text": [
            "[>>Codigo 15 Saldo 800<<] [>>Codigo 50000 Saldo 1300<<]\n"
          ]
        }
      ]
    },
    {
      "cell_type": "code",
      "source": [
        "contas.insert(0, 76)\n",
        "print(contas[0],contas[1],contas[2])"
      ],
      "metadata": {
        "colab": {
          "base_uri": "https://localhost:8080/"
        },
        "id": "RgvMD7BFzeHI",
        "outputId": "b358364f-2973-412d-ddd8-0b7c7d632381"
      },
      "execution_count": null,
      "outputs": [
        {
          "output_type": "stream",
          "name": "stdout",
          "text": [
            "76 [>>Codigo 15 Saldo 800<<] [>>Codigo 50000 Saldo 1300<<]\n"
          ]
        }
      ]
    },
    {
      "cell_type": "code",
      "source": [
        "contas = (conta_do_gui,conta_da_dani)\n",
        "contas"
      ],
      "metadata": {
        "colab": {
          "base_uri": "https://localhost:8080/"
        },
        "id": "HpBuk7W_Kz6E",
        "outputId": "aa04d825-12b1-4b33-fa84-343a37eadd8a"
      },
      "execution_count": null,
      "outputs": [
        {
          "output_type": "execute_result",
          "data": {
            "text/plain": [
              "(<__main__.ContaCorrente at 0x7f814c0c0eb0>,\n",
              " <__main__.ContaCorrente at 0x7f814c00cdc0>)"
            ]
          },
          "metadata": {},
          "execution_count": 35
        }
      ]
    },
    {
      "cell_type": "code",
      "source": [
        "contas[0].deposita(300)\n",
        "for conta in contas:\n",
        "  print(conta)"
      ],
      "metadata": {
        "colab": {
          "base_uri": "https://localhost:8080/"
        },
        "id": "c38EAgxsNWs-",
        "outputId": "ab96a0b0-e5c0-47ed-dfb4-0aadff5e88ec"
      },
      "execution_count": null,
      "outputs": [
        {
          "output_type": "stream",
          "name": "stdout",
          "text": [
            "[>>Codigo 15 Saldo 1100<<]\n",
            "[>>Codigo 50000 Saldo 1300<<]\n"
          ]
        }
      ]
    },
    {
      "cell_type": "markdown",
      "source": [
        "# Nova seção"
      ],
      "metadata": {
        "id": "83RaDWxxObLE"
      }
    },
    {
      "cell_type": "code",
      "source": [
        "idades= [21,58,47,26,16]\n",
        "\n",
        "for i in range(len(idades)):\n",
        "  print(f'{i} - {idades[i]}')"
      ],
      "metadata": {
        "colab": {
          "base_uri": "https://localhost:8080/"
        },
        "id": "NlGCBQjaPXB0",
        "outputId": "41061b74-b7ad-4d6a-f0e1-9e726eda2401"
      },
      "execution_count": null,
      "outputs": [
        {
          "output_type": "stream",
          "name": "stdout",
          "text": [
            "0 - 21\n",
            "1 - 58\n",
            "2 - 47\n",
            "3 - 26\n",
            "4 - 16\n"
          ]
        }
      ]
    },
    {
      "cell_type": "code",
      "source": [
        "list(enumerate(idades))"
      ],
      "metadata": {
        "colab": {
          "base_uri": "https://localhost:8080/"
        },
        "id": "mHuqYzN-Ukav",
        "outputId": "a0c0227a-5a61-4b76-e9ab-27181102aba5"
      },
      "execution_count": null,
      "outputs": [
        {
          "output_type": "execute_result",
          "data": {
            "text/plain": [
              "[(0, 21), (1, 58), (2, 47), (3, 26), (4, 16)]"
            ]
          },
          "metadata": {},
          "execution_count": 39
        }
      ]
    },
    {
      "cell_type": "code",
      "source": [
        "for valor in enumerate(idades):\n",
        "  print(valor)"
      ],
      "metadata": {
        "colab": {
          "base_uri": "https://localhost:8080/"
        },
        "id": "oM-bNKqyVM87",
        "outputId": "3158cdae-f2b2-45bb-d191-9f3c9083c82f"
      },
      "execution_count": null,
      "outputs": [
        {
          "output_type": "stream",
          "name": "stdout",
          "text": [
            "(0, 21)\n",
            "(1, 58)\n",
            "(2, 47)\n",
            "(3, 26)\n",
            "(4, 16)\n"
          ]
        }
      ]
    },
    {
      "cell_type": "code",
      "source": [
        "for indice, idade in enumerate(idades):\n",
        "  print(indice,\"x\",idade)"
      ],
      "metadata": {
        "colab": {
          "base_uri": "https://localhost:8080/"
        },
        "id": "lBVZf1gWVYtX",
        "outputId": "f4f8e138-853d-46b4-96b8-8978ca7f2014"
      },
      "execution_count": null,
      "outputs": [
        {
          "output_type": "stream",
          "name": "stdout",
          "text": [
            "0 x 21\n",
            "1 x 58\n",
            "2 x 47\n",
            "3 x 26\n",
            "4 x 16\n"
          ]
        }
      ]
    },
    {
      "cell_type": "code",
      "source": [
        "for indice, idade in enumerate(idades):\n",
        "  print(indice)\n"
      ],
      "metadata": {
        "colab": {
          "base_uri": "https://localhost:8080/"
        },
        "id": "SyvpEKjGWH2H",
        "outputId": "576ab14a-cf74-44e2-dfa2-32fa0321c239"
      },
      "execution_count": null,
      "outputs": [
        {
          "output_type": "stream",
          "name": "stdout",
          "text": [
            "0\n",
            "1\n",
            "2\n",
            "3\n",
            "4\n"
          ]
        }
      ]
    },
    {
      "cell_type": "code",
      "source": [
        "for indice, _ in enumerate(idades):\n",
        "  print(indice)\n",
        "#ignorando idades com o enumerate"
      ],
      "metadata": {
        "colab": {
          "base_uri": "https://localhost:8080/"
        },
        "id": "NKKO5WN6VyDW",
        "outputId": "882d2d4c-8299-48a8-88b1-16642af2e1d1"
      },
      "execution_count": null,
      "outputs": [
        {
          "output_type": "stream",
          "name": "stdout",
          "text": [
            "0\n",
            "1\n",
            "2\n",
            "3\n",
            "4\n"
          ]
        }
      ]
    },
    {
      "cell_type": "code",
      "source": [
        "sorted(idades)\n",
        "#ordena do menor para o maior"
      ],
      "metadata": {
        "colab": {
          "base_uri": "https://localhost:8080/"
        },
        "id": "0W2mu7XYWO5k",
        "outputId": "3de5f4bd-4129-4a86-e30a-c11569179f54"
      },
      "execution_count": null,
      "outputs": [
        {
          "output_type": "execute_result",
          "data": {
            "text/plain": [
              "[16, 21, 26, 47, 58]"
            ]
          },
          "metadata": {},
          "execution_count": 45
        }
      ]
    },
    {
      "cell_type": "code",
      "source": [
        "list(reversed(idades))\n",
        "#pega da ultima posição da lista para a primeira posição"
      ],
      "metadata": {
        "colab": {
          "base_uri": "https://localhost:8080/"
        },
        "id": "ohNabnOqYDPD",
        "outputId": "807cd94f-415d-45ad-bbb6-d3114b539013"
      },
      "execution_count": null,
      "outputs": [
        {
          "output_type": "execute_result",
          "data": {
            "text/plain": [
              "[16, 26, 47, 58, 21]"
            ]
          },
          "metadata": {},
          "execution_count": 46
        }
      ]
    },
    {
      "cell_type": "code",
      "source": [
        "list(reversed(sorted(idades)))\n",
        "#ordena do maior para o menor"
      ],
      "metadata": {
        "colab": {
          "base_uri": "https://localhost:8080/"
        },
        "id": "NfjgGEDUZaLG",
        "outputId": "2c4f815d-9154-47df-ad1e-1fc0a462b4f2"
      },
      "execution_count": null,
      "outputs": [
        {
          "output_type": "execute_result",
          "data": {
            "text/plain": [
              "[58, 47, 26, 21, 16]"
            ]
          },
          "metadata": {},
          "execution_count": 49
        }
      ]
    },
    {
      "cell_type": "code",
      "source": [
        "sorted(idades, reverse=True)\n",
        "#ordena do maior para o menor\n",
        "#melhor opção"
      ],
      "metadata": {
        "colab": {
          "base_uri": "https://localhost:8080/"
        },
        "id": "g9-uaHUYYZTy",
        "outputId": "351e14c9-680c-4e14-8b09-e016f6e909a8"
      },
      "execution_count": null,
      "outputs": [
        {
          "output_type": "execute_result",
          "data": {
            "text/plain": [
              "[58, 47, 26, 21, 16]"
            ]
          },
          "metadata": {},
          "execution_count": 50
        }
      ]
    },
    {
      "cell_type": "code",
      "source": [
        "idades.sort()\n",
        "#altera o valor da variavel deixando ordenado\n",
        "idades"
      ],
      "metadata": {
        "colab": {
          "base_uri": "https://localhost:8080/"
        },
        "id": "6e0BKK28aPxQ",
        "outputId": "a86e91cd-a214-4c93-e4e9-9c26daeae595"
      },
      "execution_count": null,
      "outputs": [
        {
          "output_type": "execute_result",
          "data": {
            "text/plain": [
              "[16, 21, 26, 47, 58]"
            ]
          },
          "metadata": {},
          "execution_count": 54
        }
      ]
    },
    {
      "cell_type": "code",
      "source": [],
      "metadata": {
        "id": "obc3EzzJaehU"
      },
      "execution_count": null,
      "outputs": []
    }
  ]
}