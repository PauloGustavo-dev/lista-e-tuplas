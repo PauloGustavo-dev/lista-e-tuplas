{
  "nbformat": 4,
  "nbformat_minor": 0,
  "metadata": {
    "colab": {
      "provenance": [],
      "authorship_tag": "ABX9TyPe30lAPbXCHICEKNjXsjBj",
      "include_colab_link": true
    },
    "kernelspec": {
      "name": "python3",
      "display_name": "Python 3"
    },
    "language_info": {
      "name": "python"
    }
  },
  "cells": [
    {
      "cell_type": "markdown",
      "metadata": {
        "id": "view-in-github",
        "colab_type": "text"
      },
      "source": [
        "<a href=\"https://colab.research.google.com/github/PauloGustavo-dev/lista-e-tuplas/blob/main/Collections_parte_2.ipynb\" target=\"_parent\"><img src=\"https://colab.research.google.com/assets/colab-badge.svg\" alt=\"Open In Colab\"/></a>"
      ]
    },
    {
      "cell_type": "markdown",
      "source": [
        "# Conjunções\n"
      ],
      "metadata": {
        "id": "mCIBO6meBEc5"
      }
    },
    {
      "cell_type": "code",
      "execution_count": 1,
      "metadata": {
        "id": "Qm27OKgX5uc9"
      },
      "outputs": [],
      "source": [
        "usuarios_data_science= [15,23,43,56]\n",
        "usuarios_machine_learning = [13,23,56,42]"
      ]
    },
    {
      "cell_type": "code",
      "source": [
        "assistiram= usuarios_data_science.copy()\n",
        "assistiram.extend(usuarios_machine_learning)\n",
        "assistiram"
      ],
      "metadata": {
        "colab": {
          "base_uri": "https://localhost:8080/"
        },
        "id": "Q70yNmex6Rm4",
        "outputId": "53278b53-93d8-40f4-92e3-49d45a354122"
      },
      "execution_count": 2,
      "outputs": [
        {
          "output_type": "execute_result",
          "data": {
            "text/plain": [
              "[15, 23, 43, 56, 13, 23, 56, 42]"
            ]
          },
          "metadata": {},
          "execution_count": 2
        }
      ]
    },
    {
      "cell_type": "code",
      "source": [
        "set(assistiram)\n",
        "#ordena e remove valores duplicados"
      ],
      "metadata": {
        "colab": {
          "base_uri": "https://localhost:8080/"
        },
        "id": "bvxrcNOi63dV",
        "outputId": "eedc1065-6388-487d-c610-82079b0d5761"
      },
      "execution_count": 4,
      "outputs": [
        {
          "output_type": "execute_result",
          "data": {
            "text/plain": [
              "{13, 15, 23, 42, 43, 56}"
            ]
          },
          "metadata": {},
          "execution_count": 4
        }
      ]
    },
    {
      "cell_type": "code",
      "source": [
        "for usuario in set(assistiram):\n",
        "  print(usuario)"
      ],
      "metadata": {
        "colab": {
          "base_uri": "https://localhost:8080/"
        },
        "id": "rFKJoA4b69nb",
        "outputId": "f048b194-2706-40fb-9b97-37fe1c9371e2"
      },
      "execution_count": 5,
      "outputs": [
        {
          "output_type": "stream",
          "name": "stdout",
          "text": [
            "42\n",
            "43\n",
            "13\n",
            "15\n",
            "23\n",
            "56\n"
          ]
        }
      ]
    },
    {
      "cell_type": "code",
      "source": [
        "usuarios_data_science= {15,23,43,56}\n",
        "usuarios_machine_learning = {13,23,56,42}\n",
        "#conjunção"
      ],
      "metadata": {
        "id": "m2kQVjF78LL2"
      },
      "execution_count": 8,
      "outputs": []
    },
    {
      "cell_type": "code",
      "source": [
        "usuarios_data_science|usuarios_machine_learning"
      ],
      "metadata": {
        "colab": {
          "base_uri": "https://localhost:8080/"
        },
        "id": "1QsxK_VH7uta",
        "outputId": "83dc8b51-88fd-451b-a6c1-e4e13e9a355c"
      },
      "execution_count": 9,
      "outputs": [
        {
          "output_type": "execute_result",
          "data": {
            "text/plain": [
              "{13, 15, 23, 42, 43, 56}"
            ]
          },
          "metadata": {},
          "execution_count": 9
        }
      ]
    },
    {
      "cell_type": "code",
      "source": [
        "usuarios_data_science&usuarios_machine_learning"
      ],
      "metadata": {
        "colab": {
          "base_uri": "https://localhost:8080/"
        },
        "id": "gEm-E2iG8DNr",
        "outputId": "1f7558b9-0fe4-4369-8730-cebc7fd17498"
      },
      "execution_count": 10,
      "outputs": [
        {
          "output_type": "execute_result",
          "data": {
            "text/plain": [
              "{23, 56}"
            ]
          },
          "metadata": {},
          "execution_count": 10
        }
      ]
    },
    {
      "cell_type": "code",
      "source": [
        "usuarios_data_science - usuarios_machine_learning\n",
        "#mostra so os usuario de data science que não fizeram machine learning"
      ],
      "metadata": {
        "colab": {
          "base_uri": "https://localhost:8080/"
        },
        "id": "j6jFl60x8qLp",
        "outputId": "e639c641-227d-4682-8b42-00f5e6e953de"
      },
      "execution_count": 11,
      "outputs": [
        {
          "output_type": "execute_result",
          "data": {
            "text/plain": [
              "{15, 43}"
            ]
          },
          "metadata": {},
          "execution_count": 11
        }
      ]
    },
    {
      "cell_type": "code",
      "source": [
        "usuarios_data_science^usuarios_machine_learning\n",
        "#mostra usuarios dos dois cursos com exceção dos usuarios que fizeram os dois cursos"
      ],
      "metadata": {
        "colab": {
          "base_uri": "https://localhost:8080/"
        },
        "id": "NwljDuNi9Joz",
        "outputId": "048b519c-37c5-4359-8d71-9dd47195d366"
      },
      "execution_count": 12,
      "outputs": [
        {
          "output_type": "execute_result",
          "data": {
            "text/plain": [
              "{13, 15, 42, 43}"
            ]
          },
          "metadata": {},
          "execution_count": 12
        }
      ]
    },
    {
      "cell_type": "code",
      "source": [
        "usuarios= {1,5,76,34,52,13,17}\n",
        "len(usuarios)"
      ],
      "metadata": {
        "colab": {
          "base_uri": "https://localhost:8080/"
        },
        "id": "-LbPG9w195L5",
        "outputId": "706851a4-1c0e-447a-e257-510f1f0319f8"
      },
      "execution_count": 13,
      "outputs": [
        {
          "output_type": "execute_result",
          "data": {
            "text/plain": [
              "7"
            ]
          },
          "metadata": {},
          "execution_count": 13
        }
      ]
    },
    {
      "cell_type": "code",
      "source": [
        "usuarios.add(13)\n",
        "len(usuarios)"
      ],
      "metadata": {
        "colab": {
          "base_uri": "https://localhost:8080/"
        },
        "id": "xeVSpXkX-Wun",
        "outputId": "93d90d8e-1faa-4d73-9c7b-d66f99b5b8d0"
      },
      "execution_count": 14,
      "outputs": [
        {
          "output_type": "execute_result",
          "data": {
            "text/plain": [
              "7"
            ]
          },
          "metadata": {},
          "execution_count": 14
        }
      ]
    },
    {
      "cell_type": "code",
      "source": [
        "usuarios.add(765)\n",
        "len(usuarios)"
      ],
      "metadata": {
        "colab": {
          "base_uri": "https://localhost:8080/"
        },
        "id": "y9A1NHRi-e2D",
        "outputId": "02290eb7-11e8-4159-c6a0-0e0eb101c18b"
      },
      "execution_count": 15,
      "outputs": [
        {
          "output_type": "execute_result",
          "data": {
            "text/plain": [
              "8"
            ]
          },
          "metadata": {},
          "execution_count": 15
        }
      ]
    },
    {
      "cell_type": "code",
      "source": [
        "usuarios= frozenset(usuarios)\n",
        "usuarios\n",
        "#como se virasse um tupla"
      ],
      "metadata": {
        "colab": {
          "base_uri": "https://localhost:8080/"
        },
        "id": "2xh6PjBJ-mif",
        "outputId": "9d4e132b-766c-4d8f-f746-682be959617b"
      },
      "execution_count": 16,
      "outputs": [
        {
          "output_type": "execute_result",
          "data": {
            "text/plain": [
              "frozenset({1, 5, 13, 17, 34, 52, 76, 765})"
            ]
          },
          "metadata": {},
          "execution_count": 16
        }
      ]
    },
    {
      "cell_type": "code",
      "source": [
        "usuarios.add(134)"
      ],
      "metadata": {
        "id": "Ltekrowl-wTZ"
      },
      "execution_count": null,
      "outputs": []
    },
    {
      "cell_type": "markdown",
      "source": [
        "# Dicionario"
      ],
      "metadata": {
        "id": "-ANDRqT0A9nM"
      }
    },
    {
      "cell_type": "code",
      "source": [
        "aparicoes = {\"Guilherme\":1,\n",
        "             \"cachorro\": 2,\n",
        "             \"nome\" : 2,\n",
        "             \"vindo\" : 1}"
      ],
      "metadata": {
        "id": "vR4lVsfA-1B2"
      },
      "execution_count": 18,
      "outputs": []
    },
    {
      "cell_type": "code",
      "source": [
        "type(aparicoes)"
      ],
      "metadata": {
        "colab": {
          "base_uri": "https://localhost:8080/"
        },
        "id": "kavAw7HVB5EU",
        "outputId": "90045e57-b7e2-4b5c-f358-ca7d6419fb90"
      },
      "execution_count": 19,
      "outputs": [
        {
          "output_type": "execute_result",
          "data": {
            "text/plain": [
              "dict"
            ]
          },
          "metadata": {},
          "execution_count": 19
        }
      ]
    },
    {
      "cell_type": "code",
      "source": [
        "aparicoes[\"Guilherme\"]"
      ],
      "metadata": {
        "id": "QU9fHSzAB73w"
      },
      "execution_count": null,
      "outputs": []
    },
    {
      "cell_type": "code",
      "source": [
        "aparicoes.get(\"invalido\",0)\n",
        "#try exception para busca de termo no dicionario\n",
        "#se erro retorna o segundo valor que eu inseri, no caso o 0"
      ],
      "metadata": {
        "colab": {
          "base_uri": "https://localhost:8080/"
        },
        "id": "JQhglQH3CBBn",
        "outputId": "4e92e7f7-11bb-4bd4-94de-908ece7b32be"
      },
      "execution_count": 25,
      "outputs": [
        {
          "output_type": "execute_result",
          "data": {
            "text/plain": [
              "0"
            ]
          },
          "metadata": {},
          "execution_count": 25
        }
      ]
    },
    {
      "cell_type": "code",
      "source": [
        "for elementos in aparicoes.items():\n",
        "  print(elementos)"
      ],
      "metadata": {
        "colab": {
          "base_uri": "https://localhost:8080/"
        },
        "id": "6mpQaOI7CT0H",
        "outputId": "d93679fe-5064-47da-bc5b-b04db1784594"
      },
      "execution_count": 26,
      "outputs": [
        {
          "output_type": "stream",
          "name": "stdout",
          "text": [
            "('Guilherme', 1)\n",
            "('cachorro', 2)\n",
            "('nome', 2)\n",
            "('vindo', 1)\n"
          ]
        }
      ]
    },
    {
      "cell_type": "code",
      "source": [
        "for indice, valor in aparicoes.items():\n",
        "  print(indice, \"=\" , valor)"
      ],
      "metadata": {
        "colab": {
          "base_uri": "https://localhost:8080/"
        },
        "id": "CR7Y4ezaEArH",
        "outputId": "04796729-0c4d-481a-c24c-c9905f699ac9"
      },
      "execution_count": 28,
      "outputs": [
        {
          "output_type": "stream",
          "name": "stdout",
          "text": [
            "Guilherme = 1\n",
            "cachorro = 2\n",
            "nome = 2\n",
            "vindo = 1\n"
          ]
        }
      ]
    },
    {
      "cell_type": "code",
      "source": [
        "aparicoes={}\n"
      ],
      "metadata": {
        "id": "z0Dk69XrF2jm"
      },
      "execution_count": 36,
      "outputs": []
    },
    {
      "cell_type": "code",
      "source": [
        "texto = \"Bem vindo eu estou fazendo um texto aleatorio para testes\"\n",
        "texto = texto.lower()\n",
        "\n",
        "aparicoes={}\n",
        "\n",
        "for palavra in texto.split():\n",
        "  ate_agora = aparicoes.get(palavra, 0)\n",
        "  aparicoes[palavra] = ate_agora+1\n",
        "\n",
        "aparicoes"
      ],
      "metadata": {
        "colab": {
          "base_uri": "https://localhost:8080/"
        },
        "id": "9z8mcYp8Ef1v",
        "outputId": "50b1432b-8d2e-4be4-ff49-c64fa05a0b31"
      },
      "execution_count": 38,
      "outputs": [
        {
          "output_type": "execute_result",
          "data": {
            "text/plain": [
              "{'bem': 1,\n",
              " 'vindo': 1,\n",
              " 'eu': 1,\n",
              " 'estou': 1,\n",
              " 'fazendo': 1,\n",
              " 'um': 1,\n",
              " 'texto': 1,\n",
              " 'aleatorio': 1,\n",
              " 'para': 1,\n",
              " 'testes': 1}"
            ]
          },
          "metadata": {},
          "execution_count": 38
        }
      ]
    },
    {
      "cell_type": "code",
      "source": [
        "from collections import defaultdict\n",
        "\n",
        "aparicoes= defaultdict(int)\n",
        "\n",
        "for palavra in texto.split():\n",
        "  ate_agora = aparicoes[palavra]\n",
        "  aparicoes[palavra] = ate_agora+1\n",
        "\n",
        "aparicoes"
      ],
      "metadata": {
        "colab": {
          "base_uri": "https://localhost:8080/"
        },
        "id": "TUwJP-AVE3YH",
        "outputId": "eb51f61c-fa64-475e-dbb4-eb809998f6ce"
      },
      "execution_count": 39,
      "outputs": [
        {
          "output_type": "execute_result",
          "data": {
            "text/plain": [
              "defaultdict(int,\n",
              "            {'bem': 1,\n",
              "             'vindo': 1,\n",
              "             'eu': 1,\n",
              "             'estou': 1,\n",
              "             'fazendo': 1,\n",
              "             'um': 1,\n",
              "             'texto': 1,\n",
              "             'aleatorio': 1,\n",
              "             'para': 1,\n",
              "             'testes': 1})"
            ]
          },
          "metadata": {},
          "execution_count": 39
        }
      ]
    },
    {
      "cell_type": "code",
      "source": [
        "from collections import defaultdict\n",
        "\n",
        "aparicoes= defaultdict(int)\n",
        "\n",
        "for palavra in texto.split():\n",
        "  aparicoes[palavra] += 1\n",
        "\n",
        "aparicoes"
      ],
      "metadata": {
        "colab": {
          "base_uri": "https://localhost:8080/"
        },
        "id": "mf8SonurG8wF",
        "outputId": "c4c0d77f-ce59-4bb7-9f88-42b0ee23e819"
      },
      "execution_count": 40,
      "outputs": [
        {
          "output_type": "execute_result",
          "data": {
            "text/plain": [
              "defaultdict(int,\n",
              "            {'bem': 1,\n",
              "             'vindo': 1,\n",
              "             'eu': 1,\n",
              "             'estou': 1,\n",
              "             'fazendo': 1,\n",
              "             'um': 1,\n",
              "             'texto': 1,\n",
              "             'aleatorio': 1,\n",
              "             'para': 1,\n",
              "             'testes': 1})"
            ]
          },
          "metadata": {},
          "execution_count": 40
        }
      ]
    },
    {
      "cell_type": "code",
      "source": [
        "from collections import Counter\n",
        "aparicoes = Counter(texto.split())\n",
        "aparicoes"
      ],
      "metadata": {
        "colab": {
          "base_uri": "https://localhost:8080/"
        },
        "id": "nh7DBMPlHUqM",
        "outputId": "cfc03d62-43a8-42a7-8586-d837d27a4227"
      },
      "execution_count": 41,
      "outputs": [
        {
          "output_type": "execute_result",
          "data": {
            "text/plain": [
              "Counter({'bem': 1,\n",
              "         'vindo': 1,\n",
              "         'eu': 1,\n",
              "         'estou': 1,\n",
              "         'fazendo': 1,\n",
              "         'um': 1,\n",
              "         'texto': 1,\n",
              "         'aleatorio': 1,\n",
              "         'para': 1,\n",
              "         'testes': 1})"
            ]
          },
          "metadata": {},
          "execution_count": 41
        }
      ]
    }
  ]
}